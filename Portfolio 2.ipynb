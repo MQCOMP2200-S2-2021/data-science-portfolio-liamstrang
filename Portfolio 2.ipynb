{
 "cells": [
  {
   "cell_type": "markdown",
   "metadata": {},
   "source": [
    "# Sport Vouchers Program Analysis\n",
    "\n",
    "The goal of this Portfolio task is to explore data from the Federal Government Sport Vouchers program - this is a\n",
    "program that provides up to two $100 vouchers for kids to participate in organised sport. Here's the [NSW Active Kids page](https://www.service.nsw.gov.au/transaction/apply-active-kids-voucher), there are similar schemes in other states - this data is from South Australia.\n",
    "\n",
    "This is an exercise in exploring data and communicating the insights you can gain from it.  The source data comes\n",
    "from the `data.gov.au` website and provides details of all Sport Vouchers that have been redeemed since February  in SA 2015 as part of the Sport Voucher program:  [Sports Vouchers Data](https://data.gov.au/dataset/ds-sa-14daba50-04ff-46c6-8468-9fa593b9f100/details).  This download is provided for you as `sportsvouchersclaimed.csv`.\n",
    "\n",
    "To augment this data you can also make use of [ABS SEIFA data by LGA](http://stat.data.abs.gov.au/Index.aspx?DataSetCode=ABS_SEIFA_LGA#) which shows a few measures of Socioeconomic Advantage and Disadvantage for every Local Government Area. This data is provided for you as `ABS_SEIFA_LGA.csv`. This could enable you to answer questions about whether the voucher program is used equally by parents in low, middle and high socioeconomic areas.   You might be interested in this if you were concerned that this kind of program might just benifit parents who are already advantaged (they might already be paying for sport so this program wouldn't be helping much).\n",
    "\n",
    "Questions:\n",
    "* Describe the distribution of vouchers by: LGA, Sport - which regions/sports stand out? \n",
    "* Are some sports more popular in different parts of the state?\n",
    "* Are any electorates over/under represented in their use of vouchers?\n",
    "* Is there a relationship between any of the SEIFA measures and voucher use in an LGA?\n",
    "\n",
    "A challenge in this task is to display a useful summary of the data given that there are a large number of LGAs and sports involved.  Try to avoid long lists and large tables. Think about what plots and tables communicate the main points of your findings. \n"
   ]
  },
  {
   "cell_type": "code",
   "execution_count": 1,
   "metadata": {},
   "outputs": [],
   "source": [
    "import pandas as pd\n",
    "import numpy as np\n",
    "import matplotlib.pyplot as plt\n",
    "import seaborn as sns\n",
    "%matplotlib inline"
   ]
  },
  {
   "cell_type": "code",
   "execution_count": 2,
   "metadata": {
    "scrolled": true
   },
   "outputs": [
    {
     "data": {
      "text/html": [
       "<div>\n",
       "<style scoped>\n",
       "    .dataframe tbody tr th:only-of-type {\n",
       "        vertical-align: middle;\n",
       "    }\n",
       "\n",
       "    .dataframe tbody tr th {\n",
       "        vertical-align: top;\n",
       "    }\n",
       "\n",
       "    .dataframe thead th {\n",
       "        text-align: right;\n",
       "    }\n",
       "</style>\n",
       "<table border=\"1\" class=\"dataframe\">\n",
       "  <thead>\n",
       "    <tr style=\"text-align: right;\">\n",
       "      <th></th>\n",
       "      <th>Participant_ID</th>\n",
       "      <th>Participant_Suburb</th>\n",
       "      <th>Club_Previous_Member</th>\n",
       "      <th>Participant_ATSI_Indicator</th>\n",
       "      <th>Participant_CALD_Indicator</th>\n",
       "      <th>Participant_Sex</th>\n",
       "      <th>Voucher_Value</th>\n",
       "      <th>Club_Name</th>\n",
       "      <th>Voucher_Sport</th>\n",
       "      <th>Participant_LGA</th>\n",
       "      <th>Participant_Electorate</th>\n",
       "      <th>Voucher_Completion_Date</th>\n",
       "      <th>Voucher_Claim_Year</th>\n",
       "    </tr>\n",
       "  </thead>\n",
       "  <tbody>\n",
       "    <tr>\n",
       "      <th>0</th>\n",
       "      <td>1000002</td>\n",
       "      <td>ABERFOYLE PARK</td>\n",
       "      <td>Registered Previously</td>\n",
       "      <td>Not ATSI</td>\n",
       "      <td>Not CALD</td>\n",
       "      <td>Male</td>\n",
       "      <td>50</td>\n",
       "      <td>Flagstaff Hill Football Club</td>\n",
       "      <td>Australian Rules</td>\n",
       "      <td>ONKAPARINGA</td>\n",
       "      <td>FISHER</td>\n",
       "      <td>26/6/15 1:19</td>\n",
       "      <td>2015</td>\n",
       "    </tr>\n",
       "    <tr>\n",
       "      <th>1</th>\n",
       "      <td>1000002</td>\n",
       "      <td>ABERFOYLE PARK</td>\n",
       "      <td>Registered Previously</td>\n",
       "      <td>Not ATSI</td>\n",
       "      <td>Not CALD</td>\n",
       "      <td>Male</td>\n",
       "      <td>50</td>\n",
       "      <td>Flagstaff Hill Football Club</td>\n",
       "      <td>Australian Rules</td>\n",
       "      <td>ONKAPARINGA</td>\n",
       "      <td>FISHER</td>\n",
       "      <td>29/6/16 23:55</td>\n",
       "      <td>2016</td>\n",
       "    </tr>\n",
       "    <tr>\n",
       "      <th>2</th>\n",
       "      <td>1000004</td>\n",
       "      <td>ABERFOYLE PARK</td>\n",
       "      <td>Not Registered Previously</td>\n",
       "      <td>Not ATSI</td>\n",
       "      <td>Not CALD</td>\n",
       "      <td>Female</td>\n",
       "      <td>50</td>\n",
       "      <td>Hub Gymnastics Club</td>\n",
       "      <td>Gymnastics</td>\n",
       "      <td>ONKAPARINGA</td>\n",
       "      <td>FISHER</td>\n",
       "      <td>21/4/16 3:37</td>\n",
       "      <td>2016</td>\n",
       "    </tr>\n",
       "    <tr>\n",
       "      <th>3</th>\n",
       "      <td>1000004</td>\n",
       "      <td>ABERFOYLE PARK</td>\n",
       "      <td>Registered Previously</td>\n",
       "      <td>Not ATSI</td>\n",
       "      <td>Not CALD</td>\n",
       "      <td>Female</td>\n",
       "      <td>50</td>\n",
       "      <td>Hub Gymnastics Club</td>\n",
       "      <td>Gymnastics</td>\n",
       "      <td>ONKAPARINGA</td>\n",
       "      <td>FISHER</td>\n",
       "      <td>30/3/17 0:47</td>\n",
       "      <td>2017</td>\n",
       "    </tr>\n",
       "    <tr>\n",
       "      <th>4</th>\n",
       "      <td>1000005</td>\n",
       "      <td>ABERFOYLE PARK</td>\n",
       "      <td>Registered Previously</td>\n",
       "      <td>Not ATSI</td>\n",
       "      <td>Not CALD</td>\n",
       "      <td>Female</td>\n",
       "      <td>50</td>\n",
       "      <td>Blackwood Community Recreation Association</td>\n",
       "      <td>Gymnastics</td>\n",
       "      <td>ONKAPARINGA</td>\n",
       "      <td>FISHER</td>\n",
       "      <td>20/7/15 2:50</td>\n",
       "      <td>2015</td>\n",
       "    </tr>\n",
       "  </tbody>\n",
       "</table>\n",
       "</div>"
      ],
      "text/plain": [
       "   Participant_ID Participant_Suburb       Club_Previous_Member  \\\n",
       "0         1000002     ABERFOYLE PARK      Registered Previously   \n",
       "1         1000002     ABERFOYLE PARK      Registered Previously   \n",
       "2         1000004     ABERFOYLE PARK  Not Registered Previously   \n",
       "3         1000004     ABERFOYLE PARK      Registered Previously   \n",
       "4         1000005     ABERFOYLE PARK      Registered Previously   \n",
       "\n",
       "  Participant_ATSI_Indicator Participant_CALD_Indicator Participant_Sex  \\\n",
       "0                   Not ATSI                   Not CALD            Male   \n",
       "1                   Not ATSI                   Not CALD            Male   \n",
       "2                   Not ATSI                   Not CALD          Female   \n",
       "3                   Not ATSI                   Not CALD          Female   \n",
       "4                   Not ATSI                   Not CALD          Female   \n",
       "\n",
       "   Voucher_Value                                   Club_Name  \\\n",
       "0             50                Flagstaff Hill Football Club   \n",
       "1             50                Flagstaff Hill Football Club   \n",
       "2             50                         Hub Gymnastics Club   \n",
       "3             50                         Hub Gymnastics Club   \n",
       "4             50  Blackwood Community Recreation Association   \n",
       "\n",
       "      Voucher_Sport Participant_LGA Participant_Electorate  \\\n",
       "0  Australian Rules     ONKAPARINGA                 FISHER   \n",
       "1  Australian Rules     ONKAPARINGA                 FISHER   \n",
       "2        Gymnastics     ONKAPARINGA                 FISHER   \n",
       "3        Gymnastics     ONKAPARINGA                 FISHER   \n",
       "4        Gymnastics     ONKAPARINGA                 FISHER   \n",
       "\n",
       "  Voucher_Completion_Date  Voucher_Claim_Year  \n",
       "0            26/6/15 1:19                2015  \n",
       "1           29/6/16 23:55                2016  \n",
       "2            21/4/16 3:37                2016  \n",
       "3            30/3/17 0:47                2017  \n",
       "4            20/7/15 2:50                2015  "
      ]
     },
     "execution_count": 2,
     "metadata": {},
     "output_type": "execute_result"
    }
   ],
   "source": [
    "# read the sports vouchers data\n",
    "sa_vouchers = pd.read_csv(\"files/sportsvouchersclaimed.csv\")\n",
    "sa_vouchers.head()"
   ]
  },
  {
   "cell_type": "markdown",
   "metadata": {},
   "source": [
    "The SEIFA data includes row for each Local Government Area (LGA) but the names of the LGAs have a letter or letters in brackets after the name.  To allow us to match this up with the voucher data we remove this and convert to uppercase. \n",
    "\n",
    "For each LGA the data includes a number of measures all of which could be useful in your exploration.  "
   ]
  },
  {
   "cell_type": "code",
   "execution_count": 3,
   "metadata": {},
   "outputs": [
    {
     "name": "stderr",
     "output_type": "stream",
     "text": [
      "c:\\users\\stran\\appdata\\local\\programs\\python\\python37-32\\lib\\site-packages\\ipykernel_launcher.py:3: FutureWarning: The default value of regex will change from True to False in a future version.\n",
      "  This is separate from the ipykernel package so we can avoid doing imports until\n"
     ]
    },
    {
     "data": {
      "text/html": [
       "<div>\n",
       "<style scoped>\n",
       "    .dataframe tbody tr th:only-of-type {\n",
       "        vertical-align: middle;\n",
       "    }\n",
       "\n",
       "    .dataframe tbody tr th {\n",
       "        vertical-align: top;\n",
       "    }\n",
       "\n",
       "    .dataframe thead th {\n",
       "        text-align: right;\n",
       "    }\n",
       "</style>\n",
       "<table border=\"1\" class=\"dataframe\">\n",
       "  <thead>\n",
       "    <tr style=\"text-align: right;\">\n",
       "      <th></th>\n",
       "      <th>LGA_2011</th>\n",
       "      <th>Local Government Areas - 2011</th>\n",
       "      <th>INDEX_TYPE</th>\n",
       "      <th>Index Type</th>\n",
       "      <th>MEASURE</th>\n",
       "      <th>Measure</th>\n",
       "      <th>Value</th>\n",
       "      <th>LGA</th>\n",
       "    </tr>\n",
       "  </thead>\n",
       "  <tbody>\n",
       "    <tr>\n",
       "      <th>0</th>\n",
       "      <td>10050</td>\n",
       "      <td>Albury (C)</td>\n",
       "      <td>IRSAD</td>\n",
       "      <td>Index of Relative Socio-economic Advantage and...</td>\n",
       "      <td>SCORE</td>\n",
       "      <td>Score</td>\n",
       "      <td>967</td>\n",
       "      <td>ALBURY</td>\n",
       "    </tr>\n",
       "    <tr>\n",
       "      <th>1</th>\n",
       "      <td>10050</td>\n",
       "      <td>Albury (C)</td>\n",
       "      <td>IRSAD</td>\n",
       "      <td>Index of Relative Socio-economic Advantage and...</td>\n",
       "      <td>MINS</td>\n",
       "      <td>Minimum score for SA1s in area</td>\n",
       "      <td>628</td>\n",
       "      <td>ALBURY</td>\n",
       "    </tr>\n",
       "    <tr>\n",
       "      <th>2</th>\n",
       "      <td>10050</td>\n",
       "      <td>Albury (C)</td>\n",
       "      <td>IRSAD</td>\n",
       "      <td>Index of Relative Socio-economic Advantage and...</td>\n",
       "      <td>MAXS</td>\n",
       "      <td>Maximum score for SA1s in area</td>\n",
       "      <td>1169</td>\n",
       "      <td>ALBURY</td>\n",
       "    </tr>\n",
       "    <tr>\n",
       "      <th>3</th>\n",
       "      <td>10050</td>\n",
       "      <td>Albury (C)</td>\n",
       "      <td>IRSAD</td>\n",
       "      <td>Index of Relative Socio-economic Advantage and...</td>\n",
       "      <td>URP</td>\n",
       "      <td>Usual resident population</td>\n",
       "      <td>47851</td>\n",
       "      <td>ALBURY</td>\n",
       "    </tr>\n",
       "    <tr>\n",
       "      <th>4</th>\n",
       "      <td>10110</td>\n",
       "      <td>Armidale Dumaresq (A)</td>\n",
       "      <td>IRSAD</td>\n",
       "      <td>Index of Relative Socio-economic Advantage and...</td>\n",
       "      <td>SCORE</td>\n",
       "      <td>Score</td>\n",
       "      <td>985</td>\n",
       "      <td>ARMIDALE DUMARESQ</td>\n",
       "    </tr>\n",
       "  </tbody>\n",
       "</table>\n",
       "</div>"
      ],
      "text/plain": [
       "   LGA_2011 Local Government Areas - 2011 INDEX_TYPE  \\\n",
       "0     10050                    Albury (C)      IRSAD   \n",
       "1     10050                    Albury (C)      IRSAD   \n",
       "2     10050                    Albury (C)      IRSAD   \n",
       "3     10050                    Albury (C)      IRSAD   \n",
       "4     10110         Armidale Dumaresq (A)      IRSAD   \n",
       "\n",
       "                                          Index Type MEASURE  \\\n",
       "0  Index of Relative Socio-economic Advantage and...   SCORE   \n",
       "1  Index of Relative Socio-economic Advantage and...    MINS   \n",
       "2  Index of Relative Socio-economic Advantage and...    MAXS   \n",
       "3  Index of Relative Socio-economic Advantage and...     URP   \n",
       "4  Index of Relative Socio-economic Advantage and...   SCORE   \n",
       "\n",
       "                          Measure  Value                LGA  \n",
       "0                           Score    967             ALBURY  \n",
       "1  Minimum score for SA1s in area    628             ALBURY  \n",
       "2  Maximum score for SA1s in area   1169             ALBURY  \n",
       "3       Usual resident population  47851             ALBURY  \n",
       "4                           Score    985  ARMIDALE DUMARESQ  "
      ]
     },
     "execution_count": 3,
     "metadata": {},
     "output_type": "execute_result"
    }
   ],
   "source": [
    "# read the SEIFA data, create an LGA column by removing the letters in brackets and converting to uppercase\n",
    "seifa = pd.read_csv('files/ABS_SEIFA_LGA.csv')\n",
    "lga = seifa[\"Local Government Areas - 2011\"].str.replace(' \\([ACSRCDMT]+\\)', '').str.upper()\n",
    "seifa['LGA'] = lga\n",
    "seifa.head()"
   ]
  },
  {
   "cell_type": "markdown",
   "metadata": {},
   "source": [
    "Since there are many rows per LGA we need to use `pivot_table` to create a new data frame with one row per LGA. Here\n",
    "is an example of doing this to create a table with the different SCORE measures and the population (URP) field. "
   ]
  },
  {
   "cell_type": "code",
   "execution_count": 4,
   "metadata": {},
   "outputs": [
    {
     "data": {
      "text/html": [
       "<div>\n",
       "<style scoped>\n",
       "    .dataframe tbody tr th:only-of-type {\n",
       "        vertical-align: middle;\n",
       "    }\n",
       "\n",
       "    .dataframe tbody tr th {\n",
       "        vertical-align: top;\n",
       "    }\n",
       "\n",
       "    .dataframe thead th {\n",
       "        text-align: right;\n",
       "    }\n",
       "</style>\n",
       "<table border=\"1\" class=\"dataframe\">\n",
       "  <thead>\n",
       "    <tr style=\"text-align: right;\">\n",
       "      <th>INDEX_TYPE</th>\n",
       "      <th>IEO</th>\n",
       "      <th>IER</th>\n",
       "      <th>IRSAD</th>\n",
       "      <th>IRSD</th>\n",
       "      <th>Population</th>\n",
       "    </tr>\n",
       "    <tr>\n",
       "      <th>LGA</th>\n",
       "      <th></th>\n",
       "      <th></th>\n",
       "      <th></th>\n",
       "      <th></th>\n",
       "      <th></th>\n",
       "    </tr>\n",
       "  </thead>\n",
       "  <tbody>\n",
       "    <tr>\n",
       "      <th>ADELAIDE</th>\n",
       "      <td>874.0</td>\n",
       "      <td>874.0</td>\n",
       "      <td>1036.0</td>\n",
       "      <td>1013.0</td>\n",
       "      <td>19606.0</td>\n",
       "    </tr>\n",
       "    <tr>\n",
       "      <th>ADELAIDE HILLS</th>\n",
       "      <td>1083.0</td>\n",
       "      <td>1083.0</td>\n",
       "      <td>1077.0</td>\n",
       "      <td>1081.0</td>\n",
       "      <td>38601.0</td>\n",
       "    </tr>\n",
       "    <tr>\n",
       "      <th>ALBANY</th>\n",
       "      <td>999.0</td>\n",
       "      <td>999.0</td>\n",
       "      <td>977.0</td>\n",
       "      <td>987.0</td>\n",
       "      <td>33614.0</td>\n",
       "    </tr>\n",
       "    <tr>\n",
       "      <th>ALBURY</th>\n",
       "      <td>964.0</td>\n",
       "      <td>964.0</td>\n",
       "      <td>967.0</td>\n",
       "      <td>979.0</td>\n",
       "      <td>47851.0</td>\n",
       "    </tr>\n",
       "    <tr>\n",
       "      <th>ALEXANDRINA</th>\n",
       "      <td>1000.0</td>\n",
       "      <td>1000.0</td>\n",
       "      <td>969.0</td>\n",
       "      <td>987.0</td>\n",
       "      <td>23693.0</td>\n",
       "    </tr>\n",
       "  </tbody>\n",
       "</table>\n",
       "</div>"
      ],
      "text/plain": [
       "INDEX_TYPE         IEO     IER   IRSAD    IRSD  Population\n",
       "LGA                                                       \n",
       "ADELAIDE         874.0   874.0  1036.0  1013.0     19606.0\n",
       "ADELAIDE HILLS  1083.0  1083.0  1077.0  1081.0     38601.0\n",
       "ALBANY           999.0   999.0   977.0   987.0     33614.0\n",
       "ALBURY           964.0   964.0   967.0   979.0     47851.0\n",
       "ALEXANDRINA     1000.0  1000.0   969.0   987.0     23693.0"
      ]
     },
     "execution_count": 4,
     "metadata": {},
     "output_type": "execute_result"
    }
   ],
   "source": [
    "LGA_scores = seifa[seifa.MEASURE == 'SCORE'].pivot_table(index=\"LGA\", columns=[\"INDEX_TYPE\"], values=\"Value\")\n",
    "LGA_scores.head()\n",
    "LGA_pop = seifa[seifa.MEASURE == 'URP'].pivot_table(index=\"LGA\", columns=[\"INDEX_TYPE\"], values=\"Value\")\n",
    "LGA_scores['Population'] = LGA_pop.IEO\n",
    "LGA_scores.head()"
   ]
  },
  {
   "cell_type": "markdown",
   "metadata": {},
   "source": [
    "This data frame can then be joined with the vouchers data fram to create one master data frame containing both the voucher data and the SEIFA measures."
   ]
  },
  {
   "cell_type": "code",
   "execution_count": 5,
   "metadata": {},
   "outputs": [
    {
     "data": {
      "text/html": [
       "<div>\n",
       "<style scoped>\n",
       "    .dataframe tbody tr th:only-of-type {\n",
       "        vertical-align: middle;\n",
       "    }\n",
       "\n",
       "    .dataframe tbody tr th {\n",
       "        vertical-align: top;\n",
       "    }\n",
       "\n",
       "    .dataframe thead th {\n",
       "        text-align: right;\n",
       "    }\n",
       "</style>\n",
       "<table border=\"1\" class=\"dataframe\">\n",
       "  <thead>\n",
       "    <tr style=\"text-align: right;\">\n",
       "      <th></th>\n",
       "      <th>Participant_ID</th>\n",
       "      <th>Participant_Suburb</th>\n",
       "      <th>Club_Previous_Member</th>\n",
       "      <th>Participant_ATSI_Indicator</th>\n",
       "      <th>Participant_CALD_Indicator</th>\n",
       "      <th>Participant_Sex</th>\n",
       "      <th>Voucher_Value</th>\n",
       "      <th>Club_Name</th>\n",
       "      <th>Voucher_Sport</th>\n",
       "      <th>Participant_LGA</th>\n",
       "      <th>Participant_Electorate</th>\n",
       "      <th>Voucher_Completion_Date</th>\n",
       "      <th>Voucher_Claim_Year</th>\n",
       "      <th>IEO</th>\n",
       "      <th>IER</th>\n",
       "      <th>IRSAD</th>\n",
       "      <th>IRSD</th>\n",
       "      <th>Population</th>\n",
       "    </tr>\n",
       "  </thead>\n",
       "  <tbody>\n",
       "    <tr>\n",
       "      <th>0</th>\n",
       "      <td>1000002</td>\n",
       "      <td>ABERFOYLE PARK</td>\n",
       "      <td>Registered Previously</td>\n",
       "      <td>Not ATSI</td>\n",
       "      <td>Not CALD</td>\n",
       "      <td>Male</td>\n",
       "      <td>50</td>\n",
       "      <td>Flagstaff Hill Football Club</td>\n",
       "      <td>Australian Rules</td>\n",
       "      <td>ONKAPARINGA</td>\n",
       "      <td>FISHER</td>\n",
       "      <td>26/6/15 1:19</td>\n",
       "      <td>2015</td>\n",
       "      <td>996.0</td>\n",
       "      <td>996.0</td>\n",
       "      <td>975.0</td>\n",
       "      <td>993.0</td>\n",
       "      <td>159517.0</td>\n",
       "    </tr>\n",
       "    <tr>\n",
       "      <th>1</th>\n",
       "      <td>1000002</td>\n",
       "      <td>ABERFOYLE PARK</td>\n",
       "      <td>Registered Previously</td>\n",
       "      <td>Not ATSI</td>\n",
       "      <td>Not CALD</td>\n",
       "      <td>Male</td>\n",
       "      <td>50</td>\n",
       "      <td>Flagstaff Hill Football Club</td>\n",
       "      <td>Australian Rules</td>\n",
       "      <td>ONKAPARINGA</td>\n",
       "      <td>FISHER</td>\n",
       "      <td>29/6/16 23:55</td>\n",
       "      <td>2016</td>\n",
       "      <td>996.0</td>\n",
       "      <td>996.0</td>\n",
       "      <td>975.0</td>\n",
       "      <td>993.0</td>\n",
       "      <td>159517.0</td>\n",
       "    </tr>\n",
       "    <tr>\n",
       "      <th>2</th>\n",
       "      <td>1000004</td>\n",
       "      <td>ABERFOYLE PARK</td>\n",
       "      <td>Not Registered Previously</td>\n",
       "      <td>Not ATSI</td>\n",
       "      <td>Not CALD</td>\n",
       "      <td>Female</td>\n",
       "      <td>50</td>\n",
       "      <td>Hub Gymnastics Club</td>\n",
       "      <td>Gymnastics</td>\n",
       "      <td>ONKAPARINGA</td>\n",
       "      <td>FISHER</td>\n",
       "      <td>21/4/16 3:37</td>\n",
       "      <td>2016</td>\n",
       "      <td>996.0</td>\n",
       "      <td>996.0</td>\n",
       "      <td>975.0</td>\n",
       "      <td>993.0</td>\n",
       "      <td>159517.0</td>\n",
       "    </tr>\n",
       "    <tr>\n",
       "      <th>3</th>\n",
       "      <td>1000004</td>\n",
       "      <td>ABERFOYLE PARK</td>\n",
       "      <td>Registered Previously</td>\n",
       "      <td>Not ATSI</td>\n",
       "      <td>Not CALD</td>\n",
       "      <td>Female</td>\n",
       "      <td>50</td>\n",
       "      <td>Hub Gymnastics Club</td>\n",
       "      <td>Gymnastics</td>\n",
       "      <td>ONKAPARINGA</td>\n",
       "      <td>FISHER</td>\n",
       "      <td>30/3/17 0:47</td>\n",
       "      <td>2017</td>\n",
       "      <td>996.0</td>\n",
       "      <td>996.0</td>\n",
       "      <td>975.0</td>\n",
       "      <td>993.0</td>\n",
       "      <td>159517.0</td>\n",
       "    </tr>\n",
       "    <tr>\n",
       "      <th>4</th>\n",
       "      <td>1000005</td>\n",
       "      <td>ABERFOYLE PARK</td>\n",
       "      <td>Registered Previously</td>\n",
       "      <td>Not ATSI</td>\n",
       "      <td>Not CALD</td>\n",
       "      <td>Female</td>\n",
       "      <td>50</td>\n",
       "      <td>Blackwood Community Recreation Association</td>\n",
       "      <td>Gymnastics</td>\n",
       "      <td>ONKAPARINGA</td>\n",
       "      <td>FISHER</td>\n",
       "      <td>20/7/15 2:50</td>\n",
       "      <td>2015</td>\n",
       "      <td>996.0</td>\n",
       "      <td>996.0</td>\n",
       "      <td>975.0</td>\n",
       "      <td>993.0</td>\n",
       "      <td>159517.0</td>\n",
       "    </tr>\n",
       "  </tbody>\n",
       "</table>\n",
       "</div>"
      ],
      "text/plain": [
       "   Participant_ID Participant_Suburb       Club_Previous_Member  \\\n",
       "0         1000002     ABERFOYLE PARK      Registered Previously   \n",
       "1         1000002     ABERFOYLE PARK      Registered Previously   \n",
       "2         1000004     ABERFOYLE PARK  Not Registered Previously   \n",
       "3         1000004     ABERFOYLE PARK      Registered Previously   \n",
       "4         1000005     ABERFOYLE PARK      Registered Previously   \n",
       "\n",
       "  Participant_ATSI_Indicator Participant_CALD_Indicator Participant_Sex  \\\n",
       "0                   Not ATSI                   Not CALD            Male   \n",
       "1                   Not ATSI                   Not CALD            Male   \n",
       "2                   Not ATSI                   Not CALD          Female   \n",
       "3                   Not ATSI                   Not CALD          Female   \n",
       "4                   Not ATSI                   Not CALD          Female   \n",
       "\n",
       "   Voucher_Value                                   Club_Name  \\\n",
       "0             50                Flagstaff Hill Football Club   \n",
       "1             50                Flagstaff Hill Football Club   \n",
       "2             50                         Hub Gymnastics Club   \n",
       "3             50                         Hub Gymnastics Club   \n",
       "4             50  Blackwood Community Recreation Association   \n",
       "\n",
       "      Voucher_Sport Participant_LGA Participant_Electorate  \\\n",
       "0  Australian Rules     ONKAPARINGA                 FISHER   \n",
       "1  Australian Rules     ONKAPARINGA                 FISHER   \n",
       "2        Gymnastics     ONKAPARINGA                 FISHER   \n",
       "3        Gymnastics     ONKAPARINGA                 FISHER   \n",
       "4        Gymnastics     ONKAPARINGA                 FISHER   \n",
       "\n",
       "  Voucher_Completion_Date  Voucher_Claim_Year    IEO    IER  IRSAD   IRSD  \\\n",
       "0            26/6/15 1:19                2015  996.0  996.0  975.0  993.0   \n",
       "1           29/6/16 23:55                2016  996.0  996.0  975.0  993.0   \n",
       "2            21/4/16 3:37                2016  996.0  996.0  975.0  993.0   \n",
       "3            30/3/17 0:47                2017  996.0  996.0  975.0  993.0   \n",
       "4            20/7/15 2:50                2015  996.0  996.0  975.0  993.0   \n",
       "\n",
       "   Population  \n",
       "0    159517.0  \n",
       "1    159517.0  \n",
       "2    159517.0  \n",
       "3    159517.0  \n",
       "4    159517.0  "
      ]
     },
     "execution_count": 5,
     "metadata": {},
     "output_type": "execute_result"
    }
   ],
   "source": [
    "sa_vouchers_scores = sa_vouchers.join(LGA_scores, on='Participant_LGA')\n",
    "sa_vouchers_scores.head()"
   ]
  },
  {
   "cell_type": "markdown",
   "metadata": {},
   "source": [
    "The `mostRedeemed` variable is a dataframe sorted by the suburbs with the highest redeemed vouchers."
   ]
  },
  {
   "cell_type": "code",
   "execution_count": 6,
   "metadata": {},
   "outputs": [
    {
     "data": {
      "text/html": [
       "<div>\n",
       "<style scoped>\n",
       "    .dataframe tbody tr th:only-of-type {\n",
       "        vertical-align: middle;\n",
       "    }\n",
       "\n",
       "    .dataframe tbody tr th {\n",
       "        vertical-align: top;\n",
       "    }\n",
       "\n",
       "    .dataframe thead th {\n",
       "        text-align: right;\n",
       "    }\n",
       "</style>\n",
       "<table border=\"1\" class=\"dataframe\">\n",
       "  <thead>\n",
       "    <tr style=\"text-align: right;\">\n",
       "      <th></th>\n",
       "      <th>Participant_Suburb</th>\n",
       "      <th>Vouchers_Redeemed</th>\n",
       "    </tr>\n",
       "  </thead>\n",
       "  <tbody>\n",
       "    <tr>\n",
       "      <th>676</th>\n",
       "      <td>MOUNT GAMBIER</td>\n",
       "      <td>3131</td>\n",
       "    </tr>\n",
       "    <tr>\n",
       "      <th>852</th>\n",
       "      <td>PORT LINCOLN</td>\n",
       "      <td>2125</td>\n",
       "    </tr>\n",
       "    <tr>\n",
       "      <th>859</th>\n",
       "      <td>PORT PIRIE</td>\n",
       "      <td>1424</td>\n",
       "    </tr>\n",
       "    <tr>\n",
       "      <th>665</th>\n",
       "      <td>MOUNT BARKER</td>\n",
       "      <td>1334</td>\n",
       "    </tr>\n",
       "    <tr>\n",
       "      <th>661</th>\n",
       "      <td>MORPHETT VALE</td>\n",
       "      <td>1302</td>\n",
       "    </tr>\n",
       "  </tbody>\n",
       "</table>\n",
       "</div>"
      ],
      "text/plain": [
       "    Participant_Suburb  Vouchers_Redeemed\n",
       "676      MOUNT GAMBIER               3131\n",
       "852       PORT LINCOLN               2125\n",
       "859         PORT PIRIE               1424\n",
       "665       MOUNT BARKER               1334\n",
       "661      MORPHETT VALE               1302"
      ]
     },
     "execution_count": 6,
     "metadata": {},
     "output_type": "execute_result"
    }
   ],
   "source": [
    "mostRedeemed = sa_vouchers_scores.groupby(['Participant_Suburb']).size().reset_index(name='Vouchers_Redeemed')\n",
    "mostRedeemed = mostRedeemed.sort_values(by='Vouchers_Redeemed', ascending=False)\n",
    "mostRedeemed.head()"
   ]
  },
  {
   "cell_type": "markdown",
   "metadata": {},
   "source": [
    "Top 10 suburb's with the highest redeemed vouchers"
   ]
  },
  {
   "cell_type": "code",
   "execution_count": 7,
   "metadata": {},
   "outputs": [
    {
     "data": {
      "image/png": "[encoded data removed]",
      "text/plain": [
       "<Figure size 576x576 with 1 Axes>"
      ]
     },
     "metadata": {
      "needs_background": "light"
     },
     "output_type": "display_data"
    }
   ],
   "source": [
    "mostRedeemed.iloc[0:10].plot(x=\"Participant_Suburb\", y=\"Vouchers_Redeemed\", kind=\"bar\", figsize=(8,8))\n",
    "plt.show()"
   ]
  },
  {
   "cell_type": "markdown",
   "metadata": {},
   "source": [
    "The `highestSport` variable is a dataframe which stores the top sports based on the vouchers redeemed in each LGA."
   ]
  },
  {
   "cell_type": "code",
   "execution_count": 8,
   "metadata": {},
   "outputs": [
    {
     "data": {
      "text/html": [
       "<div>\n",
       "<style scoped>\n",
       "    .dataframe tbody tr th:only-of-type {\n",
       "        vertical-align: middle;\n",
       "    }\n",
       "\n",
       "    .dataframe tbody tr th {\n",
       "        vertical-align: top;\n",
       "    }\n",
       "\n",
       "    .dataframe thead th {\n",
       "        text-align: right;\n",
       "    }\n",
       "</style>\n",
       "<table border=\"1\" class=\"dataframe\">\n",
       "  <thead>\n",
       "    <tr style=\"text-align: right;\">\n",
       "      <th></th>\n",
       "      <th>Voucher_Sport</th>\n",
       "      <th>Participant_Suburb</th>\n",
       "      <th>Vouchers_Redeemed</th>\n",
       "    </tr>\n",
       "  </thead>\n",
       "  <tbody>\n",
       "    <tr>\n",
       "      <th>1140</th>\n",
       "      <td>Australian Rules</td>\n",
       "      <td>MOUNT GAMBIER</td>\n",
       "      <td>1627</td>\n",
       "    </tr>\n",
       "    <tr>\n",
       "      <th>1290</th>\n",
       "      <td>Australian Rules</td>\n",
       "      <td>PORT LINCOLN</td>\n",
       "      <td>774</td>\n",
       "    </tr>\n",
       "    <tr>\n",
       "      <th>6103</th>\n",
       "      <td>Netball</td>\n",
       "      <td>PORT LINCOLN</td>\n",
       "      <td>717</td>\n",
       "    </tr>\n",
       "    <tr>\n",
       "      <th>6107</th>\n",
       "      <td>Netball</td>\n",
       "      <td>PORT PIRIE</td>\n",
       "      <td>682</td>\n",
       "    </tr>\n",
       "    <tr>\n",
       "      <th>6096</th>\n",
       "      <td>Netball</td>\n",
       "      <td>PORT AUGUSTA</td>\n",
       "      <td>673</td>\n",
       "    </tr>\n",
       "  </tbody>\n",
       "</table>\n",
       "</div>"
      ],
      "text/plain": [
       "         Voucher_Sport Participant_Suburb  Vouchers_Redeemed\n",
       "1140  Australian Rules      MOUNT GAMBIER               1627\n",
       "1290  Australian Rules       PORT LINCOLN                774\n",
       "6103           Netball       PORT LINCOLN                717\n",
       "6107           Netball         PORT PIRIE                682\n",
       "6096           Netball       PORT AUGUSTA                673"
      ]
     },
     "execution_count": 8,
     "metadata": {},
     "output_type": "execute_result"
    }
   ],
   "source": [
    "highestSport = sa_vouchers_scores.groupby(['Voucher_Sport', 'Participant_Suburb']).size().reset_index(name='Vouchers_Redeemed')\n",
    "highestSport = highestSport.sort_values(by='Vouchers_Redeemed', ascending=False)\n",
    "highestSport.head()"
   ]
  },
  {
   "cell_type": "markdown",
   "metadata": {},
   "source": [
    "Comparing the suburbs with the top sports across all suburbs limited to the top 10 suburbs based on the vouchers redeemed."
   ]
  },
  {
   "cell_type": "code",
   "execution_count": 9,
   "metadata": {
    "scrolled": false
   },
   "outputs": [
    {
     "data": {
      "image/png": "[encoded data removed]",
      "text/plain": [
       "<Figure size 1008x432 with 1 Axes>"
      ]
     },
     "metadata": {
      "needs_background": "light"
     },
     "output_type": "display_data"
    }
   ],
   "source": [
    "highestSportGraph = highestSport.iloc[0:10]\n",
    "plt.figure(figsize=(14, 6))\n",
    "sns.barplot(x='Participant_Suburb', y='Vouchers_Redeemed', hue='Voucher_Sport', data=highestSportGraph, saturation=1)\n",
    "plt.show()"
   ]
  },
  {
   "cell_type": "markdown",
   "metadata": {},
   "source": [
    "The amount of vouchers redeemed based on each sport played"
   ]
  },
  {
   "cell_type": "code",
   "execution_count": 10,
   "metadata": {},
   "outputs": [
    {
     "data": {
      "text/html": [
       "<div>\n",
       "<style scoped>\n",
       "    .dataframe tbody tr th:only-of-type {\n",
       "        vertical-align: middle;\n",
       "    }\n",
       "\n",
       "    .dataframe tbody tr th {\n",
       "        vertical-align: top;\n",
       "    }\n",
       "\n",
       "    .dataframe thead th {\n",
       "        text-align: right;\n",
       "    }\n",
       "</style>\n",
       "<table border=\"1\" class=\"dataframe\">\n",
       "  <thead>\n",
       "    <tr style=\"text-align: right;\">\n",
       "      <th></th>\n",
       "      <th>Voucher_Sport</th>\n",
       "      <th>Vouchers_Redeemed</th>\n",
       "    </tr>\n",
       "  </thead>\n",
       "  <tbody>\n",
       "    <tr>\n",
       "      <th>2</th>\n",
       "      <td>Australian Rules</td>\n",
       "      <td>47224</td>\n",
       "    </tr>\n",
       "    <tr>\n",
       "      <th>27</th>\n",
       "      <td>Netball</td>\n",
       "      <td>24017</td>\n",
       "    </tr>\n",
       "    <tr>\n",
       "      <th>15</th>\n",
       "      <td>Football (Soccer)</td>\n",
       "      <td>15775</td>\n",
       "    </tr>\n",
       "    <tr>\n",
       "      <th>17</th>\n",
       "      <td>Gymnastics</td>\n",
       "      <td>9823</td>\n",
       "    </tr>\n",
       "    <tr>\n",
       "      <th>6</th>\n",
       "      <td>Basketball</td>\n",
       "      <td>6016</td>\n",
       "    </tr>\n",
       "  </tbody>\n",
       "</table>\n",
       "</div>"
      ],
      "text/plain": [
       "        Voucher_Sport  Vouchers_Redeemed\n",
       "2    Australian Rules              47224\n",
       "27            Netball              24017\n",
       "15  Football (Soccer)              15775\n",
       "17         Gymnastics               9823\n",
       "6          Basketball               6016"
      ]
     },
     "execution_count": 10,
     "metadata": {},
     "output_type": "execute_result"
    }
   ],
   "source": [
    "topSportsSA = sa_vouchers_scores.groupby(['Voucher_Sport']).size().reset_index(name='Vouchers_Redeemed')\n",
    "topSportsSA = topSportsSA.sort_values(by='Vouchers_Redeemed', ascending=False)\n",
    "topSportsSA.head()"
   ]
  },
  {
   "cell_type": "code",
   "execution_count": 11,
   "metadata": {},
   "outputs": [
    {
     "data": {
      "image/png": "[encoded data removed]",
      "text/plain": [
       "<Figure size 1152x1152 with 1 Axes>"
      ]
     },
     "metadata": {
      "needs_background": "light"
     },
     "output_type": "display_data"
    }
   ],
   "source": [
    "topSportsSA.iloc[0:20].plot(x=\"Voucher_Sport\", y=\"Vouchers_Redeemed\", kind=\"bar\", figsize=(16,16))\n",
    "plt.show()"
   ]
  },
  {
   "cell_type": "markdown",
   "metadata": {},
   "source": [
    "It can be noted that Australian Rules is the top sport amongst the majority of suburbs based on the vouchers redeemed. It can also be noted that higher IRSAD's have more vouchers redeemed compared to the bottom percentile of LGA's."
   ]
  },
  {
   "cell_type": "markdown",
   "metadata": {},
   "source": [
    "### Vouchers Redeemed for each Electorate"
   ]
  },
  {
   "cell_type": "markdown",
   "metadata": {},
   "source": [
    "The `highestElectorate` variable stores a dataframe which has a count of Vouchers_Redeemed based on each electorate"
   ]
  },
  {
   "cell_type": "code",
   "execution_count": 12,
   "metadata": {},
   "outputs": [
    {
     "data": {
      "text/html": [
       "<div>\n",
       "<style scoped>\n",
       "    .dataframe tbody tr th:only-of-type {\n",
       "        vertical-align: middle;\n",
       "    }\n",
       "\n",
       "    .dataframe tbody tr th {\n",
       "        vertical-align: top;\n",
       "    }\n",
       "\n",
       "    .dataframe thead th {\n",
       "        text-align: right;\n",
       "    }\n",
       "</style>\n",
       "<table border=\"1\" class=\"dataframe\">\n",
       "  <thead>\n",
       "    <tr style=\"text-align: right;\">\n",
       "      <th></th>\n",
       "      <th>Participant_Electorate</th>\n",
       "      <th>Vouchers_Redeemed</th>\n",
       "    </tr>\n",
       "  </thead>\n",
       "  <tbody>\n",
       "    <tr>\n",
       "      <th>21</th>\n",
       "      <td>HEYSEN</td>\n",
       "      <td>6066</td>\n",
       "    </tr>\n",
       "    <tr>\n",
       "      <th>16</th>\n",
       "      <td>FROME</td>\n",
       "      <td>4445</td>\n",
       "    </tr>\n",
       "    <tr>\n",
       "      <th>40</th>\n",
       "      <td>SCHUBERT</td>\n",
       "      <td>4252</td>\n",
       "    </tr>\n",
       "    <tr>\n",
       "      <th>14</th>\n",
       "      <td>FLINDERS</td>\n",
       "      <td>4242</td>\n",
       "    </tr>\n",
       "    <tr>\n",
       "      <th>27</th>\n",
       "      <td>MACKILLOP</td>\n",
       "      <td>4195</td>\n",
       "    </tr>\n",
       "  </tbody>\n",
       "</table>\n",
       "</div>"
      ],
      "text/plain": [
       "   Participant_Electorate  Vouchers_Redeemed\n",
       "21                 HEYSEN               6066\n",
       "16                  FROME               4445\n",
       "40               SCHUBERT               4252\n",
       "14               FLINDERS               4242\n",
       "27              MACKILLOP               4195"
      ]
     },
     "execution_count": 12,
     "metadata": {},
     "output_type": "execute_result"
    }
   ],
   "source": [
    "highestElectorate = sa_vouchers_scores.groupby(['Participant_Electorate']).size().reset_index(name='Vouchers_Redeemed')\n",
    "highestElectorate = highestElectorate.sort_values(by='Vouchers_Redeemed', ascending=False)\n",
    "highestElectorate.head()"
   ]
  },
  {
   "cell_type": "markdown",
   "metadata": {},
   "source": [
    "The top 10 electorates with the most vouchers redeemed."
   ]
  },
  {
   "cell_type": "code",
   "execution_count": 13,
   "metadata": {},
   "outputs": [
    {
     "data": {
      "image/png": "[encoded data removed]",
      "text/plain": [
       "<Figure size 648x648 with 1 Axes>"
      ]
     },
     "metadata": {
      "needs_background": "light"
     },
     "output_type": "display_data"
    }
   ],
   "source": [
    "highestElectorate.iloc[0:10].plot(x=\"Participant_Electorate\", y=\"Vouchers_Redeemed\", kind=\"bar\", figsize=(9,9))\n",
    "plt.show()"
   ]
  },
  {
   "cell_type": "markdown",
   "metadata": {},
   "source": [
    "The bottom 10 electorates with the least vouchers redeemed."
   ]
  },
  {
   "cell_type": "code",
   "execution_count": 14,
   "metadata": {},
   "outputs": [
    {
     "data": {
      "image/png": "[encoded data removed]",
      "text/plain": [
       "<Figure size 648x648 with 1 Axes>"
      ]
     },
     "metadata": {
      "needs_background": "light"
     },
     "output_type": "display_data"
    }
   ],
   "source": [
    "highestElectorate.iloc[-10:].plot(x=\"Participant_Electorate\", y=\"Vouchers_Redeemed\", kind=\"bar\", figsize=(9,9))\n",
    "plt.show()"
   ]
  },
  {
   "cell_type": "markdown",
   "metadata": {},
   "source": [
    "### Vouchers Redeemed based on the Economic Advantage and Disadvantage"
   ]
  },
  {
   "cell_type": "markdown",
   "metadata": {},
   "source": [
    "The `highestSuburbs` variable is a dataframe sorted by the IRSAD number and contains a count of each LGA. The higher the IRSAD the higher economic advantage of the suburb"
   ]
  },
  {
   "cell_type": "code",
   "execution_count": 15,
   "metadata": {
    "scrolled": false
   },
   "outputs": [
    {
     "data": {
      "text/html": [
       "<div>\n",
       "<style scoped>\n",
       "    .dataframe tbody tr th:only-of-type {\n",
       "        vertical-align: middle;\n",
       "    }\n",
       "\n",
       "    .dataframe tbody tr th {\n",
       "        vertical-align: top;\n",
       "    }\n",
       "\n",
       "    .dataframe thead th {\n",
       "        text-align: right;\n",
       "    }\n",
       "</style>\n",
       "<table border=\"1\" class=\"dataframe\">\n",
       "  <thead>\n",
       "    <tr style=\"text-align: right;\">\n",
       "      <th></th>\n",
       "      <th>Participant_LGA</th>\n",
       "      <th>IRSAD</th>\n",
       "      <th>Vouchers_Redeemed</th>\n",
       "    </tr>\n",
       "  </thead>\n",
       "  <tbody>\n",
       "    <tr>\n",
       "      <th>5</th>\n",
       "      <td>BURNSIDE</td>\n",
       "      <td>1090.0</td>\n",
       "      <td>2213</td>\n",
       "    </tr>\n",
       "    <tr>\n",
       "      <th>44</th>\n",
       "      <td>ROXBY DOWNS</td>\n",
       "      <td>1086.0</td>\n",
       "      <td>234</td>\n",
       "    </tr>\n",
       "    <tr>\n",
       "      <th>1</th>\n",
       "      <td>ADELAIDE HILLS</td>\n",
       "      <td>1077.0</td>\n",
       "      <td>4756</td>\n",
       "    </tr>\n",
       "    <tr>\n",
       "      <th>55</th>\n",
       "      <td>WALKERVILLE</td>\n",
       "      <td>1076.0</td>\n",
       "      <td>386</td>\n",
       "    </tr>\n",
       "    <tr>\n",
       "      <th>52</th>\n",
       "      <td>UNLEY</td>\n",
       "      <td>1071.0</td>\n",
       "      <td>2266</td>\n",
       "    </tr>\n",
       "  </tbody>\n",
       "</table>\n",
       "</div>"
      ],
      "text/plain": [
       "   Participant_LGA   IRSAD  Vouchers_Redeemed\n",
       "5         BURNSIDE  1090.0               2213\n",
       "44     ROXBY DOWNS  1086.0                234\n",
       "1   ADELAIDE HILLS  1077.0               4756\n",
       "55     WALKERVILLE  1076.0                386\n",
       "52           UNLEY  1071.0               2266"
      ]
     },
     "execution_count": 15,
     "metadata": {},
     "output_type": "execute_result"
    }
   ],
   "source": [
    "highestSuburbs = sa_vouchers_scores.groupby(['Participant_LGA', 'IRSAD']).size().reset_index(name='Vouchers_Redeemed')\n",
    "highestSuburbs = highestSuburbs.sort_values(by='IRSAD', ascending=False)\n",
    "highestSuburbs.head()"
   ]
  },
  {
   "cell_type": "markdown",
   "metadata": {},
   "source": [
    "The top 10 IRSAD and how many vouchers were redeemed per IRSAD."
   ]
  },
  {
   "cell_type": "code",
   "execution_count": 16,
   "metadata": {},
   "outputs": [
    {
     "data": {
      "image/png": "[encoded data removed]",
      "text/plain": [
       "<Figure size 576x576 with 1 Axes>"
      ]
     },
     "metadata": {
      "needs_background": "light"
     },
     "output_type": "display_data"
    }
   ],
   "source": [
    "highestSuburbs.iloc[0:10].plot(x=\"IRSAD\", y=\"Vouchers_Redeemed\", kind=\"bar\", figsize=(8,8))\n",
    "plt.show()"
   ]
  },
  {
   "cell_type": "markdown",
   "metadata": {},
   "source": [
    "The bottom 10 IRSAD and how many vouchers were redeemed per IRSAD."
   ]
  },
  {
   "cell_type": "code",
   "execution_count": 17,
   "metadata": {},
   "outputs": [
    {
     "data": {
      "image/png": "[encoded data removed]",
      "text/plain": [
       "<Figure size 576x576 with 1 Axes>"
      ]
     },
     "metadata": {
      "needs_background": "light"
     },
     "output_type": "display_data"
    }
   ],
   "source": [
    "highestSuburbs.iloc[-10:].plot(x=\"IRSAD\", y=\"Vouchers_Redeemed\", kind=\"bar\", figsize=(8,8))\n",
    "plt.show()"
   ]
  },
  {
   "cell_type": "markdown",
   "metadata": {},
   "source": [
    "## Challenge - Queensland\n",
    "\n",
    "_Note: this is an extra task that you might take on to get a better grade for your portfolio.  You can get a good pass grade without doing this._ \n",
    "\n",
    "Queensland has a similar program called [Get Started](https://data.gov.au/dataset/ds-qld-3118838a-d425-48fa-bfc9-bc615ddae44e/details?q=get%20started%20vouchers) and we can retrieve data from their program in a similar format.  \n",
    "\n",
    "The file [round1-redeemed_get_started_vouchers.csv](files/round1-redeemed_get_started_vouchers.csv) contains records of the vouchers issued in Queensland. The date of this data is not included but the program started in 2015 so it is probably from around then.  \n",
    "\n",
    "The data includes the LGA of the individual but the name of the activity is slightly different.  To do a comparable analysis you would need to map the activity names onto those from South Australia. "
   ]
  },
  {
   "cell_type": "code",
   "execution_count": 18,
   "metadata": {},
   "outputs": [
    {
     "data": {
      "text/html": [
       "<div>\n",
       "<style scoped>\n",
       "    .dataframe tbody tr th:only-of-type {\n",
       "        vertical-align: middle;\n",
       "    }\n",
       "\n",
       "    .dataframe tbody tr th {\n",
       "        vertical-align: top;\n",
       "    }\n",
       "\n",
       "    .dataframe thead th {\n",
       "        text-align: right;\n",
       "    }\n",
       "</style>\n",
       "<table border=\"1\" class=\"dataframe\">\n",
       "  <thead>\n",
       "    <tr style=\"text-align: right;\">\n",
       "      <th></th>\n",
       "      <th>Application Number</th>\n",
       "      <th>Voucher Number</th>\n",
       "      <th>Child Age (at time of Application)</th>\n",
       "      <th>Gender</th>\n",
       "      <th>Has your child played sport before?</th>\n",
       "      <th>Participation Activity</th>\n",
       "      <th>Club Name</th>\n",
       "      <th>Club Suburb/Town</th>\n",
       "      <th>Club Local Government Area Name</th>\n",
       "      <th>Club State Electoral District  Name</th>\n",
       "      <th>Parent Suburb/Town</th>\n",
       "      <th>Total Payment</th>\n",
       "    </tr>\n",
       "  </thead>\n",
       "  <tbody>\n",
       "    <tr>\n",
       "      <th>0</th>\n",
       "      <td>2000012253</td>\n",
       "      <td>Q89QDUXP</td>\n",
       "      <td>10</td>\n",
       "      <td>NaN</td>\n",
       "      <td>Yes</td>\n",
       "      <td>*Other</td>\n",
       "      <td>Queensland Police-Citizens Youth Welfare Assoc...</td>\n",
       "      <td>Airlie Beach</td>\n",
       "      <td>Whitsunday (R)</td>\n",
       "      <td>Whitsunday</td>\n",
       "      <td>Jubilee Pocket</td>\n",
       "      <td>60.01</td>\n",
       "    </tr>\n",
       "    <tr>\n",
       "      <th>1</th>\n",
       "      <td>2000001727</td>\n",
       "      <td>593F6Y41</td>\n",
       "      <td>5</td>\n",
       "      <td>NaN</td>\n",
       "      <td>No</td>\n",
       "      <td>*Other</td>\n",
       "      <td>Guides Queensland</td>\n",
       "      <td>Windsor</td>\n",
       "      <td>Brisbane (C)</td>\n",
       "      <td>Brisbane Central</td>\n",
       "      <td>Leichhardt</td>\n",
       "      <td>150.00</td>\n",
       "    </tr>\n",
       "    <tr>\n",
       "      <th>2</th>\n",
       "      <td>2000013464</td>\n",
       "      <td>PH2R4RTT</td>\n",
       "      <td>5</td>\n",
       "      <td>NaN</td>\n",
       "      <td>No</td>\n",
       "      <td>*Other</td>\n",
       "      <td>Guides Queensland</td>\n",
       "      <td>Windsor</td>\n",
       "      <td>Brisbane (C)</td>\n",
       "      <td>Brisbane Central</td>\n",
       "      <td>Woodridge</td>\n",
       "      <td>150.00</td>\n",
       "    </tr>\n",
       "    <tr>\n",
       "      <th>3</th>\n",
       "      <td>2000009270</td>\n",
       "      <td>035SE2H5</td>\n",
       "      <td>5</td>\n",
       "      <td>NaN</td>\n",
       "      <td>Yes</td>\n",
       "      <td>*Other</td>\n",
       "      <td>Guides Queensland</td>\n",
       "      <td>Windsor</td>\n",
       "      <td>Brisbane (C)</td>\n",
       "      <td>Brisbane Central</td>\n",
       "      <td>Yatala</td>\n",
       "      <td>150.00</td>\n",
       "    </tr>\n",
       "    <tr>\n",
       "      <th>4</th>\n",
       "      <td>2000007273</td>\n",
       "      <td>NP6C4729</td>\n",
       "      <td>6</td>\n",
       "      <td>NaN</td>\n",
       "      <td>No</td>\n",
       "      <td>*Other</td>\n",
       "      <td>Guides Queensland</td>\n",
       "      <td>Windsor</td>\n",
       "      <td>Brisbane (C)</td>\n",
       "      <td>Brisbane Central</td>\n",
       "      <td>Alexandra Hills</td>\n",
       "      <td>150.00</td>\n",
       "    </tr>\n",
       "  </tbody>\n",
       "</table>\n",
       "</div>"
      ],
      "text/plain": [
       "   Application Number Voucher Number  Child Age (at time of Application)  \\\n",
       "0          2000012253       Q89QDUXP                                  10   \n",
       "1          2000001727       593F6Y41                                   5   \n",
       "2          2000013464       PH2R4RTT                                   5   \n",
       "3          2000009270       035SE2H5                                   5   \n",
       "4          2000007273       NP6C4729                                   6   \n",
       "\n",
       "   Gender Has your child played sport before? Participation Activity  \\\n",
       "0     NaN                                 Yes                 *Other   \n",
       "1     NaN                                  No                 *Other   \n",
       "2     NaN                                  No                 *Other   \n",
       "3     NaN                                 Yes                 *Other   \n",
       "4     NaN                                  No                 *Other   \n",
       "\n",
       "                                           Club Name Club Suburb/Town  \\\n",
       "0  Queensland Police-Citizens Youth Welfare Assoc...     Airlie Beach   \n",
       "1                                  Guides Queensland          Windsor   \n",
       "2                                  Guides Queensland          Windsor   \n",
       "3                                  Guides Queensland          Windsor   \n",
       "4                                  Guides Queensland          Windsor   \n",
       "\n",
       "  Club Local Government Area Name Club State Electoral District  Name  \\\n",
       "0                  Whitsunday (R)                          Whitsunday   \n",
       "1                    Brisbane (C)                    Brisbane Central   \n",
       "2                    Brisbane (C)                    Brisbane Central   \n",
       "3                    Brisbane (C)                    Brisbane Central   \n",
       "4                    Brisbane (C)                    Brisbane Central   \n",
       "\n",
       "  Parent Suburb/Town  Total Payment  \n",
       "0     Jubilee Pocket          60.01  \n",
       "1         Leichhardt         150.00  \n",
       "2          Woodridge         150.00  \n",
       "3             Yatala         150.00  \n",
       "4    Alexandra Hills         150.00  "
      ]
     },
     "execution_count": 18,
     "metadata": {},
     "output_type": "execute_result"
    }
   ],
   "source": [
    "qld_vouchers = pd.read_csv('files/round1-redeemed_get_started_vouchers.csv')\n",
    "qld_vouchers.head()"
   ]
  },
  {
   "cell_type": "code",
   "execution_count": 19,
   "metadata": {},
   "outputs": [
    {
     "name": "stderr",
     "output_type": "stream",
     "text": [
      "c:\\users\\stran\\appdata\\local\\programs\\python\\python37-32\\lib\\site-packages\\ipykernel_launcher.py:2: FutureWarning: The default value of regex will change from True to False in a future version.\n",
      "  \n"
     ]
    },
    {
     "data": {
      "text/html": [
       "<div>\n",
       "<style scoped>\n",
       "    .dataframe tbody tr th:only-of-type {\n",
       "        vertical-align: middle;\n",
       "    }\n",
       "\n",
       "    .dataframe tbody tr th {\n",
       "        vertical-align: top;\n",
       "    }\n",
       "\n",
       "    .dataframe thead th {\n",
       "        text-align: right;\n",
       "    }\n",
       "</style>\n",
       "<table border=\"1\" class=\"dataframe\">\n",
       "  <thead>\n",
       "    <tr style=\"text-align: right;\">\n",
       "      <th></th>\n",
       "      <th>Application Number</th>\n",
       "      <th>Voucher Number</th>\n",
       "      <th>Child Age (at time of Application)</th>\n",
       "      <th>Gender</th>\n",
       "      <th>Has your child played sport before?</th>\n",
       "      <th>Participation Activity</th>\n",
       "      <th>Club Name</th>\n",
       "      <th>Club Suburb/Town</th>\n",
       "      <th>Club Local Government Area Name</th>\n",
       "      <th>Club State Electoral District  Name</th>\n",
       "      <th>Parent Suburb/Town</th>\n",
       "      <th>Total Payment</th>\n",
       "      <th>LGA</th>\n",
       "      <th>IEO</th>\n",
       "      <th>IER</th>\n",
       "      <th>IRSAD</th>\n",
       "      <th>IRSD</th>\n",
       "      <th>Population</th>\n",
       "    </tr>\n",
       "  </thead>\n",
       "  <tbody>\n",
       "    <tr>\n",
       "      <th>0</th>\n",
       "      <td>2000012253</td>\n",
       "      <td>Q89QDUXP</td>\n",
       "      <td>10</td>\n",
       "      <td>NaN</td>\n",
       "      <td>Yes</td>\n",
       "      <td>*Other</td>\n",
       "      <td>Queensland Police-Citizens Youth Welfare Assoc...</td>\n",
       "      <td>Airlie Beach</td>\n",
       "      <td>Whitsunday (R)</td>\n",
       "      <td>Whitsunday</td>\n",
       "      <td>Jubilee Pocket</td>\n",
       "      <td>60.01</td>\n",
       "      <td>WHITSUNDAY</td>\n",
       "      <td>989.0</td>\n",
       "      <td>989.0</td>\n",
       "      <td>966.0</td>\n",
       "      <td>982.0</td>\n",
       "      <td>31393.0</td>\n",
       "    </tr>\n",
       "    <tr>\n",
       "      <th>1</th>\n",
       "      <td>2000001727</td>\n",
       "      <td>593F6Y41</td>\n",
       "      <td>5</td>\n",
       "      <td>NaN</td>\n",
       "      <td>No</td>\n",
       "      <td>*Other</td>\n",
       "      <td>Guides Queensland</td>\n",
       "      <td>Windsor</td>\n",
       "      <td>Brisbane (C)</td>\n",
       "      <td>Brisbane Central</td>\n",
       "      <td>Leichhardt</td>\n",
       "      <td>150.00</td>\n",
       "      <td>BRISBANE</td>\n",
       "      <td>1018.0</td>\n",
       "      <td>1018.0</td>\n",
       "      <td>1057.0</td>\n",
       "      <td>1048.0</td>\n",
       "      <td>1042074.0</td>\n",
       "    </tr>\n",
       "    <tr>\n",
       "      <th>2</th>\n",
       "      <td>2000013464</td>\n",
       "      <td>PH2R4RTT</td>\n",
       "      <td>5</td>\n",
       "      <td>NaN</td>\n",
       "      <td>No</td>\n",
       "      <td>*Other</td>\n",
       "      <td>Guides Queensland</td>\n",
       "      <td>Windsor</td>\n",
       "      <td>Brisbane (C)</td>\n",
       "      <td>Brisbane Central</td>\n",
       "      <td>Woodridge</td>\n",
       "      <td>150.00</td>\n",
       "      <td>BRISBANE</td>\n",
       "      <td>1018.0</td>\n",
       "      <td>1018.0</td>\n",
       "      <td>1057.0</td>\n",
       "      <td>1048.0</td>\n",
       "      <td>1042074.0</td>\n",
       "    </tr>\n",
       "    <tr>\n",
       "      <th>3</th>\n",
       "      <td>2000009270</td>\n",
       "      <td>035SE2H5</td>\n",
       "      <td>5</td>\n",
       "      <td>NaN</td>\n",
       "      <td>Yes</td>\n",
       "      <td>*Other</td>\n",
       "      <td>Guides Queensland</td>\n",
       "      <td>Windsor</td>\n",
       "      <td>Brisbane (C)</td>\n",
       "      <td>Brisbane Central</td>\n",
       "      <td>Yatala</td>\n",
       "      <td>150.00</td>\n",
       "      <td>BRISBANE</td>\n",
       "      <td>1018.0</td>\n",
       "      <td>1018.0</td>\n",
       "      <td>1057.0</td>\n",
       "      <td>1048.0</td>\n",
       "      <td>1042074.0</td>\n",
       "    </tr>\n",
       "    <tr>\n",
       "      <th>4</th>\n",
       "      <td>2000007273</td>\n",
       "      <td>NP6C4729</td>\n",
       "      <td>6</td>\n",
       "      <td>NaN</td>\n",
       "      <td>No</td>\n",
       "      <td>*Other</td>\n",
       "      <td>Guides Queensland</td>\n",
       "      <td>Windsor</td>\n",
       "      <td>Brisbane (C)</td>\n",
       "      <td>Brisbane Central</td>\n",
       "      <td>Alexandra Hills</td>\n",
       "      <td>150.00</td>\n",
       "      <td>BRISBANE</td>\n",
       "      <td>1018.0</td>\n",
       "      <td>1018.0</td>\n",
       "      <td>1057.0</td>\n",
       "      <td>1048.0</td>\n",
       "      <td>1042074.0</td>\n",
       "    </tr>\n",
       "  </tbody>\n",
       "</table>\n",
       "</div>"
      ],
      "text/plain": [
       "   Application Number Voucher Number  Child Age (at time of Application)  \\\n",
       "0          2000012253       Q89QDUXP                                  10   \n",
       "1          2000001727       593F6Y41                                   5   \n",
       "2          2000013464       PH2R4RTT                                   5   \n",
       "3          2000009270       035SE2H5                                   5   \n",
       "4          2000007273       NP6C4729                                   6   \n",
       "\n",
       "   Gender Has your child played sport before? Participation Activity  \\\n",
       "0     NaN                                 Yes                 *Other   \n",
       "1     NaN                                  No                 *Other   \n",
       "2     NaN                                  No                 *Other   \n",
       "3     NaN                                 Yes                 *Other   \n",
       "4     NaN                                  No                 *Other   \n",
       "\n",
       "                                           Club Name Club Suburb/Town  \\\n",
       "0  Queensland Police-Citizens Youth Welfare Assoc...     Airlie Beach   \n",
       "1                                  Guides Queensland          Windsor   \n",
       "2                                  Guides Queensland          Windsor   \n",
       "3                                  Guides Queensland          Windsor   \n",
       "4                                  Guides Queensland          Windsor   \n",
       "\n",
       "  Club Local Government Area Name Club State Electoral District  Name  \\\n",
       "0                  Whitsunday (R)                          Whitsunday   \n",
       "1                    Brisbane (C)                    Brisbane Central   \n",
       "2                    Brisbane (C)                    Brisbane Central   \n",
       "3                    Brisbane (C)                    Brisbane Central   \n",
       "4                    Brisbane (C)                    Brisbane Central   \n",
       "\n",
       "  Parent Suburb/Town  Total Payment         LGA     IEO     IER   IRSAD  \\\n",
       "0     Jubilee Pocket          60.01  WHITSUNDAY   989.0   989.0   966.0   \n",
       "1         Leichhardt         150.00    BRISBANE  1018.0  1018.0  1057.0   \n",
       "2          Woodridge         150.00    BRISBANE  1018.0  1018.0  1057.0   \n",
       "3             Yatala         150.00    BRISBANE  1018.0  1018.0  1057.0   \n",
       "4    Alexandra Hills         150.00    BRISBANE  1018.0  1018.0  1057.0   \n",
       "\n",
       "     IRSD  Population  \n",
       "0   982.0     31393.0  \n",
       "1  1048.0   1042074.0  \n",
       "2  1048.0   1042074.0  \n",
       "3  1048.0   1042074.0  \n",
       "4  1048.0   1042074.0  "
      ]
     },
     "execution_count": 19,
     "metadata": {},
     "output_type": "execute_result"
    }
   ],
   "source": [
    "# Join the QLD data with the LGA data as before to get population and SIEFA data integrated\n",
    "qld_vouchers['LGA'] = qld_vouchers['Club Local Government Area Name'].str.replace(' \\([RC]+\\)', '').str.upper()\n",
    "qld_vouchers_scores = qld_vouchers.join(LGA_scores, on='LGA')\n",
    "qld_vouchers_scores.head()"
   ]
  },
  {
   "cell_type": "markdown",
   "metadata": {},
   "source": [
    "Comparing the names of activities/sports can be done using the `.unique()` function"
   ]
  },
  {
   "cell_type": "code",
   "execution_count": 20,
   "metadata": {},
   "outputs": [
    {
     "data": {
      "text/plain": [
       "array(['*Other', 'Archery', 'Athletics', 'Australian Football',\n",
       "       'Baseball', 'Basketball', 'BMX Bicycle Motocross', 'Body Boarding',\n",
       "       'Bowls Lawn', 'Boxing', 'Broomball', 'Bushwalking', 'Calisthenics',\n",
       "       'Canoeing Outrigger', 'Cheerleading', 'Cricket', 'Cycling',\n",
       "       'Dancesport', 'Disability Sports', 'Dragon Boating', 'Equestrian',\n",
       "       'Football (Soccer)', 'Futsal', 'Golf', 'Gymnastics', 'Hockey',\n",
       "       'Ice Hockey', 'Ice Skating', 'Inline Hockey', 'Ju Jitsu', 'Judo',\n",
       "       'Karate', 'Karting', 'Kayaking', 'Life Saving Surf',\n",
       "       'Mixed Martial Arts', 'Motor Cycling', 'Netball', 'Oztag',\n",
       "       'Parkour', 'Polocrosse', 'Pony Club', 'Riding for the Disabled',\n",
       "       'Rock Climbing', 'Roller Sports', 'Rowing', 'Rugby League',\n",
       "       'Rugby Union', 'Sailing', 'Shooting', 'Skipping', 'Softball',\n",
       "       'Squash', 'Surfing', 'Swimming', 'Swimming Synchronised',\n",
       "       'Table Tennis', 'Taekwondo', 'T-Ball', 'Tennis', 'Tenpin Bowling',\n",
       "       'Touch', 'Trail Bike Riding', 'Trampolining', 'Weightlifting',\n",
       "       'Zen Do Kai Martial Arts'], dtype=object)"
      ]
     },
     "execution_count": 20,
     "metadata": {},
     "output_type": "execute_result"
    }
   ],
   "source": [
    "qld_vouchers_scores['Participation Activity'].unique()"
   ]
  },
  {
   "cell_type": "code",
   "execution_count": 21,
   "metadata": {},
   "outputs": [
    {
     "data": {
      "text/plain": [
       "array(['Australian Rules', 'Gymnastics', 'Basketball', 'Netball', 'Golf',\n",
       "       'Calisthenics', 'Cricket', 'Tennis', 'Surf Lifesaving', 'Fencing',\n",
       "       'Football (Soccer)', 'Taekwondo', 'Table Tennis', 'Athletics',\n",
       "       'Lacrosse', 'Rugby League', 'BMX', 'Hockey', 'Ju Jitsu',\n",
       "       'Baseball', 'Diving', 'Softball', 'Swimming', 'Judo', 'Volleyball',\n",
       "       'Rugby Union', 'Orienteering', 'Ice Skating', 'Cycling', 'Archery',\n",
       "       'Dancesport', 'Equestrian', 'Motorcycling', 'Roller Sports',\n",
       "       'Touch', 'Karate', 'Motor Sport', 'Squash', 'Water Polo',\n",
       "       'Surf Riding', 'Weightlifting', 'Pony Clubs', 'Rowing',\n",
       "       'Wrestling', 'Sailing', 'Badminton', 'Kung Fu (Wu Shu)',\n",
       "       'Paralympics', 'Shooting', 'Bowls'], dtype=object)"
      ]
     },
     "execution_count": 21,
     "metadata": {},
     "output_type": "execute_result"
    }
   ],
   "source": [
    "sa_vouchers_scores['Voucher_Sport'].unique()"
   ]
  },
  {
   "cell_type": "markdown",
   "metadata": {},
   "source": [
    "This comparitive analysis will compare the top 5 sports of QLD with the same sports of SA"
   ]
  },
  {
   "cell_type": "code",
   "execution_count": 57,
   "metadata": {},
   "outputs": [
    {
     "data": {
      "text/html": [
       "<div>\n",
       "<style scoped>\n",
       "    .dataframe tbody tr th:only-of-type {\n",
       "        vertical-align: middle;\n",
       "    }\n",
       "\n",
       "    .dataframe tbody tr th {\n",
       "        vertical-align: top;\n",
       "    }\n",
       "\n",
       "    .dataframe thead th {\n",
       "        text-align: right;\n",
       "    }\n",
       "</style>\n",
       "<table border=\"1\" class=\"dataframe\">\n",
       "  <thead>\n",
       "    <tr style=\"text-align: right;\">\n",
       "      <th></th>\n",
       "      <th>Voucher_Sport</th>\n",
       "      <th>Vouchers_Redeemed</th>\n",
       "    </tr>\n",
       "  </thead>\n",
       "  <tbody>\n",
       "    <tr>\n",
       "      <th>46</th>\n",
       "      <td>Rugby League</td>\n",
       "      <td>2782</td>\n",
       "    </tr>\n",
       "    <tr>\n",
       "      <th>21</th>\n",
       "      <td>Football (Soccer)</td>\n",
       "      <td>2074</td>\n",
       "    </tr>\n",
       "    <tr>\n",
       "      <th>37</th>\n",
       "      <td>Netball</td>\n",
       "      <td>1263</td>\n",
       "    </tr>\n",
       "    <tr>\n",
       "      <th>3</th>\n",
       "      <td>Australian Football</td>\n",
       "      <td>548</td>\n",
       "    </tr>\n",
       "    <tr>\n",
       "      <th>24</th>\n",
       "      <td>Gymnastics</td>\n",
       "      <td>539</td>\n",
       "    </tr>\n",
       "  </tbody>\n",
       "</table>\n",
       "</div>"
      ],
      "text/plain": [
       "          Voucher_Sport  Vouchers_Redeemed\n",
       "46         Rugby League               2782\n",
       "21    Football (Soccer)               2074\n",
       "37              Netball               1263\n",
       "3   Australian Football                548\n",
       "24           Gymnastics                539"
      ]
     },
     "execution_count": 57,
     "metadata": {},
     "output_type": "execute_result"
    }
   ],
   "source": [
    "topSportsQld = qld_vouchers_scores.groupby(['Participation Activity']).size().reset_index(name='Vouchers_Redeemed')\n",
    "topSportsQld = topSportsQld.sort_values(by='Vouchers_Redeemed', ascending=False)\n",
    "topSportsQld = topSportsQld.rename(columns={'Participation Activity': 'Voucher_Sport'})\n",
    "topSportsQld = topSportsQld.head()\n",
    "topSportsQld"
   ]
  },
  {
   "cell_type": "code",
   "execution_count": 58,
   "metadata": {},
   "outputs": [
    {
     "data": {
      "text/html": [
       "<div>\n",
       "<style scoped>\n",
       "    .dataframe tbody tr th:only-of-type {\n",
       "        vertical-align: middle;\n",
       "    }\n",
       "\n",
       "    .dataframe tbody tr th {\n",
       "        vertical-align: top;\n",
       "    }\n",
       "\n",
       "    .dataframe thead th {\n",
       "        text-align: right;\n",
       "    }\n",
       "</style>\n",
       "<table border=\"1\" class=\"dataframe\">\n",
       "  <thead>\n",
       "    <tr style=\"text-align: right;\">\n",
       "      <th></th>\n",
       "      <th>Voucher_Sport</th>\n",
       "      <th>Vouchers_Redeemed</th>\n",
       "    </tr>\n",
       "  </thead>\n",
       "  <tbody>\n",
       "    <tr>\n",
       "      <th>33</th>\n",
       "      <td>Rugby League</td>\n",
       "      <td>270</td>\n",
       "    </tr>\n",
       "    <tr>\n",
       "      <th>15</th>\n",
       "      <td>Football (Soccer)</td>\n",
       "      <td>15775</td>\n",
       "    </tr>\n",
       "    <tr>\n",
       "      <th>27</th>\n",
       "      <td>Netball</td>\n",
       "      <td>24017</td>\n",
       "    </tr>\n",
       "    <tr>\n",
       "      <th>2</th>\n",
       "      <td>Australian Football</td>\n",
       "      <td>47224</td>\n",
       "    </tr>\n",
       "    <tr>\n",
       "      <th>17</th>\n",
       "      <td>Gymnastics</td>\n",
       "      <td>9823</td>\n",
       "    </tr>\n",
       "  </tbody>\n",
       "</table>\n",
       "</div>"
      ],
      "text/plain": [
       "          Voucher_Sport  Vouchers_Redeemed\n",
       "33         Rugby League                270\n",
       "15    Football (Soccer)              15775\n",
       "27              Netball              24017\n",
       "2   Australian Football              47224\n",
       "17           Gymnastics               9823"
      ]
     },
     "execution_count": 58,
     "metadata": {},
     "output_type": "execute_result"
    }
   ],
   "source": [
    "SA_Match_QLD = topSportsSA.loc[[33,15,27,2,17]]\n",
    "SA_Match_QLD = SA_Match_QLD.replace({'Australian Rules':'Australian Football'})\n",
    "SA_Match_QLD"
   ]
  },
  {
   "cell_type": "code",
   "execution_count": 59,
   "metadata": {},
   "outputs": [
    {
     "data": {
      "image/png": "[encoded data removed]",
      "text/plain": [
       "<Figure size 576x576 with 1 Axes>"
      ]
     },
     "metadata": {
      "needs_background": "light"
     },
     "output_type": "display_data"
    }
   ],
   "source": [
    "topSportsQld['Key'] = 'QLD Sports'\n",
    "SA_Match_QLD['Key'] = 'SA Sports'\n",
    "\n",
    "both = pd.concat([topSportsQld,SA_Match_QLD],keys=['QLD Sports','SA Sports'])\n",
    "\n",
    "bothGroup = both.groupby(['Voucher_Sport','Key'])\n",
    "\n",
    "comparePlot = bothGroup.sum().unstack('Key').plot(kind='bar', figsize=(8,8))\n",
    "plt.show()"
   ]
  },
  {
   "cell_type": "code",
   "execution_count": null,
   "metadata": {},
   "outputs": [],
   "source": []
  }
 ],
 "metadata": {
  "kernelspec": {
   "display_name": "Python 3 (ipykernel)",
   "language": "python",
   "name": "python3"
  },
  "language_info": {
   "codemirror_mode": {
    "name": "ipython",
    "version": 3
   },
   "file_extension": ".py",
   "mimetype": "text/x-python",
   "name": "python",
   "nbconvert_exporter": "python",
   "pygments_lexer": "ipython3",
   "version": "3.7.2"
  }
 },
 "nbformat": 4,
 "nbformat_minor": 4
}
